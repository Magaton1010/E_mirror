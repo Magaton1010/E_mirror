{
  "nbformat": 4,
  "nbformat_minor": 0,
  "metadata": {
    "colab": {
      "provenance": [],
      "authorship_tag": "ABX9TyP5SaIsALB69tBCaxOmYbXg",
      "include_colab_link": true
    },
    "kernelspec": {
      "name": "python3",
      "display_name": "Python 3"
    },
    "language_info": {
      "name": "python"
    }
  },
  "cells": [
    {
      "cell_type": "markdown",
      "metadata": {
        "id": "view-in-github",
        "colab_type": "text"
      },
      "source": [
        "<a href=\"https://colab.research.google.com/github/Magaton1010/E_mirror/blob/main/Daily_word_parctice.ipynb\" target=\"_parent\"><img src=\"https://colab.research.google.com/assets/colab-badge.svg\" alt=\"Open In Colab\"/></a>"
      ]
    },
    {
      "cell_type": "markdown",
      "source": [
        "\n",
        "#Daily word parctice This is a simple Python GUI application that allows you to save and play back words using text-to-speech. It provides an easy way to store your entered words, save them to a file, and hear them being read back to you with audio playback.\n",
        "\n",
        " Features - Save entered words to an Excel file for persistent storage. - Read back saved words with text-to-speech audio. - User-friendly interface for adding and managing words. - Specify a custom directory for saving files. ## Usage 1. Run the application to open the GUI. 2. Enter a word in the text entry field and click \"Save Word\" to add it to the list of saved words. 3. Click \"Read Back Words\" to hear the saved words being read out loud using text-to-speech. 4. Use the \"Select Save Path\" button to choose a directory for saving files.\n",
        "  ## Requirements - Python 3.x - Tkinter (included in standard library) - gtts (Google Text-to-Speech) library - pandas library\n",
        "  \n",
        "   ## Installation 1. Clone or download the repository. 2. Install required dependencies using:\n",
        "\n"
      ],
      "metadata": {
        "id": "9wH3QLh_iCYP"
      }
    },
    {
      "cell_type": "code",
      "execution_count": null,
      "metadata": {
        "id": "tSU39x_NQdpB"
      },
      "outputs": [],
      "source": [
        "import tkinter as tk\n",
        "from tkinter import filedialog\n",
        "from gtts import gTTS\n",
        "import os\n",
        "import pandas as pd\n",
        "\n",
        "# Initialize the GUI\n",
        "root = tk.Tk()\n",
        "root.title(\"Daily word parctice\")\n",
        "# Function to select a save path\n",
        "def select_path():\n",
        "    global save_path\n",
        "    save_path = filedialog.askdirectory()\n",
        "    status_label.config(text=f\"Save path selected: {save_path}\")\n",
        "    # Load previously saved words from Excel file\n",
        "    load_saved_words()\n",
        "# List to store saved words\n",
        "saved_words = []\n",
        "\n",
        "# Function to save the entered word\n",
        "def save_word():\n",
        "    word = entry_word.get()\n",
        "    if word:\n",
        "        saved_words.append(word)\n",
        "        entry_word.delete(0, \"end\")\n",
        "        status_label.config(text=f\"Word '{word}' saved successfully!\")\n",
        "\n",
        "        # Save to an Excel file\n",
        "        if save_path:\n",
        "            data = pd.DataFrame(saved_words, columns=[\"Word\"])\n",
        "            data.to_excel(os.path.join(save_path, \"saved_words.xlsx\"), index=False)\n",
        "        else:\n",
        "            status_label.config(text=\"Please select a save path.\")\n",
        "\n",
        "# Function to read back saved words\n",
        "def read_back_words():\n",
        "    if saved_words:\n",
        "        tts = gTTS(text=\" \".join(saved_words), lang=\"en\")\n",
        "\n",
        "        if save_path:\n",
        "            tts.save(os.path.join(save_path, \"saved_words.mp3\"))\n",
        "            os.system(os.path.join(save_path, \"saved_words.mp3\"))\n",
        "        else:\n",
        "            status_label.config(text=\"Please select a save path.\")\n",
        "    else:\n",
        "        status_label.config(text=\"No words saved yet.\")\n",
        "\n",
        "# Create GUI components\n",
        "label_instruction = tk.Label(root, text=\"Enter a word:\")\n",
        "entry_word = tk.Entry(root)\n",
        "button_save = tk.Button(root, text=\"Save Word\", command=save_word)\n",
        "button_read = tk.Button(root, text=\"Read Back Words\", command=read_back_words)\n",
        "button_select_path = tk.Button(root, text=\"Select Save Path\", command=select_path)\n",
        "status_label = tk.Label(root, text=\"\")\n",
        "\n",
        "# components on the GUI\n",
        "label_instruction.pack()\n",
        "entry_word.pack()\n",
        "button_save.pack()\n",
        "button_read.pack()\n",
        "button_select_path.pack()\n",
        "status_label.pack()\n",
        "\n",
        "# Set the initial path for saving files\n",
        "save_path = (r\"C:\\Users\\h.ghaderian\\Desktop\\My_apps\\Daily_word\")\n",
        "\n",
        "# Function to select a save path\n",
        "def select_path():\n",
        "    global save_path\n",
        "    save_path = filedialog.askdirectory()\n",
        "    status_label.config(text=f\"Save path selected: {save_path}\")\n",
        "    # Load previously saved words from Excel file\n",
        "    load_saved_words()\n",
        "\n",
        "# Function to load saved words from Excel file\n",
        "def load_saved_words():\n",
        "    global saved_words\n",
        "    if save_path:\n",
        "        excel_path = os.path.join(save_path, \"saved_words.xlsx\")\n",
        "        if os.path.exists(excel_path):\n",
        "            data = pd.read_excel(excel_path)\n",
        "            saved_words = data[\"Word\"].tolist()\n",
        "\n",
        "# Run the GUI\n",
        "load_saved_words()  # Load previously saved words on startup\n",
        "root.mainloop()"
      ]
    }
  ]
}